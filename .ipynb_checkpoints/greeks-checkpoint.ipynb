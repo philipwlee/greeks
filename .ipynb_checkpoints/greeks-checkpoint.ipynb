{
 "cells": [
  {
   "cell_type": "code",
   "execution_count": 58,
   "id": "404443cc-5919-438e-9c9c-5b2ec243056c",
   "metadata": {
    "execution": {
     "iopub.execute_input": "2022-03-21T17:50:40.059863Z",
     "iopub.status.busy": "2022-03-21T17:50:40.059302Z",
     "iopub.status.idle": "2022-03-21T17:50:40.067622Z",
     "shell.execute_reply": "2022-03-21T17:50:40.065303Z",
     "shell.execute_reply.started": "2022-03-21T17:50:40.059826Z"
    },
    "tags": []
   },
   "outputs": [],
   "source": [
    "from numpy import log, exp, linspace, ones, array, round\n",
    "from scipy.stats import norm\n",
    "import matplotlib.pyplot as plt\n",
    "plt.rcParams[\"figure.figsize\"] = (10,10)\n",
    "from matplotlib import cm\n",
    "import seaborn as sns"
   ]
  },
  {
   "cell_type": "code",
   "execution_count": 15,
   "id": "1f3abde7-de73-46dd-a341-165137423786",
   "metadata": {
    "execution": {
     "iopub.execute_input": "2022-03-21T02:41:07.872921Z",
     "iopub.status.busy": "2022-03-21T02:41:07.872444Z",
     "iopub.status.idle": "2022-03-21T02:41:07.973773Z",
     "shell.execute_reply": "2022-03-21T02:41:07.972503Z",
     "shell.execute_reply.started": "2022-03-21T02:41:07.872882Z"
    },
    "tags": []
   },
   "outputs": [],
   "source": [
    "class BSM:\n",
    "    \n",
    "    def __init__(self, S, K, T, sig, r, q, type=\"c\", calc=False):\n",
    "        self.S, self.K, self.T, self.sig = S, K, T, sig\n",
    "        self.r, self.q = r, q\n",
    "        \n",
    "        if type.lower() in ['c', 'p', \"call\", \"put\"]:\n",
    "            self.type = type.lower()[0]\n",
    "        else: raise ValueError(f\"Option type must be c, call, p, or put, not {self.type}\")\n",
    "        \n",
    "        self.d1 = self.calc_d1()\n",
    "        self.d2 = self.calc_d2()\n",
    "        \n",
    "        if calc:\n",
    "            self.V = self.calc_fair_value()\n",
    "    \n",
    "    def calc_d1(self):\n",
    "        return (log(self.S/self.K)+(self.r-self.q+self.sig**2/2)*self.T)/(self.sig*self.T**0.5)\n",
    "    \n",
    "    def calc_d2(self):\n",
    "        return self.d1 - self.sig*self.T**0.5\n",
    "    \n",
    "    def calc_fair_value(self):\n",
    "        if self.type=='c':\n",
    "            return self.S*exp(-self.q*self.T)*norm.cdf(self.d1) - self.K*exp(-self.r*self.T)*norm.cdf(self.d2)\n",
    "        else:\n",
    "            return self.K*exp(-self.r*self.T)*norm.cdf(-self.d2) - self.S*exp(-self.q*self.T)*norm.cdf(-self.d1)\n",
    "    \n",
    "    def calc_delta(self):\n",
    "        if self.type=='c':\n",
    "            return exp(-self.q*self.T)*norm.cdf(self.d1)\n",
    "        else:\n",
    "            return -exp(-self.q*self.T)*norm.cdf(-self.d1)\n",
    "    \n",
    "    def calc_gamma(self):\n",
    "        return exp(-self.q*self.T)*norm.pdf(self.d1) / (self.S*self.sig*self.T**0.5)\n",
    "    \n",
    "    def calc_theta(self):\n",
    "        if self.type=='c':\n",
    "            return (-self.S*exp(-self.q*self.T)*norm.pdf(self.d1)*self.sigma/(2*self.T**0.5) \n",
    "                    - self.r*self.K*exp(-self.r*self.T)*norm.cdf(self.d2) \n",
    "                    + self.q*self.S*exp(-self.q*self.T)*norm.cdf(self.d1))\n",
    "        else:\n",
    "            return (-self.S*exp(-self.q*self.T)*norm.pdf(self.d1)*self.sigma/(2*self.T**0.5) \n",
    "                    + self.r*self.K*exp(-self.r*self.T)*norm.cdf(-self.d2) \n",
    "                    - self.q*self.S*exp(-self.q*self.T)*norm.cdf(-self.d1))\n",
    "    \n",
    "    def calc_vega(self):\n",
    "        return self.S*exp(-self.q*self.T)*norm.pdf(self.d1)*self.T**0.5"
   ]
  },
  {
   "cell_type": "code",
   "execution_count": 22,
   "id": "7c763b90-fd91-49f0-ac67-e1e892cc3f9c",
   "metadata": {
    "execution": {
     "iopub.execute_input": "2022-03-21T02:42:34.031863Z",
     "iopub.status.busy": "2022-03-21T02:42:34.031476Z",
     "iopub.status.idle": "2022-03-21T02:42:34.042429Z",
     "shell.execute_reply": "2022-03-21T02:42:34.041143Z",
     "shell.execute_reply.started": "2022-03-21T02:42:34.031829Z"
    },
    "tags": []
   },
   "outputs": [
    {
     "data": {
      "text/plain": [
       "31.832366670726515"
      ]
     },
     "execution_count": 22,
     "metadata": {},
     "output_type": "execute_result"
    }
   ],
   "source": [
    "S = 4463\n",
    "K = 4460\n",
    "T = 2/252\n",
    "sig = 0.19\n",
    "r = 0.01\n",
    "q = 0\n",
    "\n",
    "BSM(S, K, T, sig, r, q).calc_fair_value()"
   ]
  },
  {
   "cell_type": "code",
   "execution_count": 17,
   "id": "91e8d260-d6fb-426e-91ab-92f3cd37c394",
   "metadata": {
    "execution": {
     "iopub.execute_input": "2022-03-21T02:41:09.425379Z",
     "iopub.status.busy": "2022-03-21T02:41:09.424726Z",
     "iopub.status.idle": "2022-03-21T02:41:09.445881Z",
     "shell.execute_reply": "2022-03-21T02:41:09.434399Z",
     "shell.execute_reply.started": "2022-03-21T02:41:09.425337Z"
    },
    "tags": []
   },
   "outputs": [
    {
     "data": {
      "text/plain": [
       "0.5210853680053528"
      ]
     },
     "execution_count": 17,
     "metadata": {},
     "output_type": "execute_result"
    }
   ],
   "source": [
    "BSM(S, K, T, sig, r, q).calc_delta()"
   ]
  },
  {
   "cell_type": "code",
   "execution_count": 60,
   "id": "1e7def68-e81c-499e-8384-4f1bf7bd1635",
   "metadata": {
    "execution": {
     "iopub.execute_input": "2022-03-21T17:51:09.288636Z",
     "iopub.status.busy": "2022-03-21T17:51:09.288385Z",
     "iopub.status.idle": "2022-03-21T17:51:09.629713Z",
     "shell.execute_reply": "2022-03-21T17:51:09.628584Z",
     "shell.execute_reply.started": "2022-03-21T17:51:09.288614Z"
    },
    "tags": []
   },
   "outputs": [],
   "source": [
    "n = 1001\n",
    "\n",
    "moneyness = linspace(-0.1, 0.1, n)\n",
    "K = S*exp(moneyness)\n",
    "Ts = linspace(1e-9, 1, n)\n",
    "\n",
    "T = 2/252\n",
    "\n",
    "fv = array([BSM(S, K, T, sig, r, q).calc_fair_value() for T in Ts])"
   ]
  },
  {
   "cell_type": "code",
   "execution_count": null,
   "id": "a775cbf0-e621-4459-9970-b36324ec3baf",
   "metadata": {
    "execution": {
     "iopub.execute_input": "2022-03-21T17:52:33.756258Z",
     "iopub.status.busy": "2022-03-21T17:52:33.755829Z",
     "iopub.status.idle": "2022-03-21T17:52:34.719599Z"
    },
    "tags": []
   },
   "outputs": [],
   "source": [
    "xl = [m if abs(m%0.05)<1e-6 else None for m in moneyness]\n",
    "yl = [round(T,2) if abs(T%0.25)<1e-9 else None for T in Ts]\n",
    "\n",
    "sns.heatmap(fv, cmap=plt.get_cmap(\"Greys\"), xticklabels=xl, \n",
    "            yticklabels=yl)"
   ]
  },
  {
   "cell_type": "code",
   "execution_count": null,
   "id": "4e22aca2-6ffc-4330-bf25-e9c051420034",
   "metadata": {},
   "outputs": [],
   "source": []
  }
 ],
 "metadata": {
  "kernelspec": {
   "display_name": "Python 3 (ipykernel)",
   "language": "python",
   "name": "python3"
  },
  "language_info": {
   "codemirror_mode": {
    "name": "ipython",
    "version": 3
   },
   "file_extension": ".py",
   "mimetype": "text/x-python",
   "name": "python",
   "nbconvert_exporter": "python",
   "pygments_lexer": "ipython3",
   "version": "3.9.10"
  }
 },
 "nbformat": 4,
 "nbformat_minor": 5
}
